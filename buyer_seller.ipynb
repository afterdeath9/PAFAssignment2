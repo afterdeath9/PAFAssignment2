{
  "nbformat": 4,
  "nbformat_minor": 0,
  "metadata": {
    "colab": {
      "name": "buyer_seller.ipynb",
      "provenance": [],
      "collapsed_sections": [],
      "include_colab_link": true
    },
    "kernelspec": {
      "name": "python3",
      "display_name": "Python 3"
    },
    "language_info": {
      "name": "python"
    }
  },
  "cells": [
    {
      "cell_type": "markdown",
      "metadata": {
        "id": "view-in-github",
        "colab_type": "text"
      },
      "source": [
        "<a href=\"https://colab.research.google.com/github/afterdeath9/PAFAssignment2/blob/main/buyer_seller.ipynb\" target=\"_parent\"><img src=\"https://colab.research.google.com/assets/colab-badge.svg\" alt=\"Open In Colab\"/></a>"
      ]
    },
    {
      "cell_type": "markdown",
      "source": [
        "Upload following files first,\n",
        "* `Mock data buyer (Wholesaler).xlsx`\n",
        "* `Mock data seller( Farmer).xlsx`"
      ],
      "metadata": {
        "id": "V8GEo4j0BKXL"
      }
    },
    {
      "cell_type": "code",
      "execution_count": null,
      "metadata": {
        "id": "SRb-eZk3-tWC"
      },
      "outputs": [],
      "source": [
        "import openpyxl\n",
        "import pandas as pd\n",
        "from sklearn import preprocessing"
      ]
    },
    {
      "cell_type": "code",
      "source": [
        "def get_raw(sheet_obj, raw, columns):\n",
        "\n",
        "    lst = []\n",
        "\n",
        "    for column in columns:\n",
        "      cell_obj = sheet_obj.cell(row=raw, column=column)\n",
        "      lst.append(cell_obj.value)\n",
        "\n",
        "    return lst\n",
        "\n",
        "def get_column(sheet_obj, start_raw_num, columns):\n",
        "\n",
        "    raw_num = start_raw_num\n",
        "    lst = []\n",
        "\n",
        "    while(True):\n",
        "\n",
        "        cell_obj = sheet_obj.cell(row=raw_num, column=columns[0])\n",
        "        if cell_obj.value == None:\n",
        "          break\n",
        "        raw = get_raw(sheet_obj, raw_num, columns)\n",
        "        lst.append(raw)\n",
        "        raw_num += 1\n",
        "\n",
        "    return lst"
      ],
      "metadata": {
        "id": "W1FjchHc_OAZ"
      },
      "execution_count": null,
      "outputs": []
    },
    {
      "cell_type": "code",
      "source": [
        "buyer_excel_path = \"//content//Mock data buyer (Wholesaler).xlsx\"\n",
        "seller_excel_path = \"//content//Mock data seller( Farmer).xlsx\"\n",
        "\n",
        "wb_obj = openpyxl.load_workbook(buyer_excel_path)\n",
        "sheet_name = wb_obj.sheetnames[0]\n",
        "sheet_obj = wb_obj[sheet_name]\n",
        "buyers_lst = get_column(sheet_obj, 2, [i for i in range(1, 7)])\n",
        "\n",
        "wb_obj = openpyxl.load_workbook(seller_excel_path)\n",
        "sheet_name = wb_obj.sheetnames[0]\n",
        "sheet_obj = wb_obj[sheet_name]\n",
        "sellers_lst = get_column(sheet_obj, 2, [i for i in range(1, 7)])"
      ],
      "metadata": {
        "id": "_GPQllcc_PyO"
      },
      "execution_count": null,
      "outputs": []
    },
    {
      "cell_type": "code",
      "source": [
        "buyers_sellers_lst = []\n",
        "\n",
        "for lst in buyers_lst:\n",
        "  new_lst = ['buyer']\n",
        "  for i in lst:\n",
        "    new_lst.append(i)\n",
        "  buyers_sellers_lst.append(new_lst)\n",
        "\n",
        "for lst in sellers_lst:\n",
        "  new_lst = ['seller']\n",
        "  for i in lst:\n",
        "    new_lst.append(i)\n",
        "  buyers_sellers_lst.append(new_lst)"
      ],
      "metadata": {
        "id": "20hl1vWaC9Wd"
      },
      "execution_count": null,
      "outputs": []
    },
    {
      "cell_type": "code",
      "source": [
        "buyers_sellers_table = pd.DataFrame(data=buyers_sellers_lst,columns=['buyer/seller', 'name', 'district', 'city', 'crop', 'yield','price'])"
      ],
      "metadata": {
        "id": "jIoSYnmHEKMf"
      },
      "execution_count": null,
      "outputs": []
    },
    {
      "cell_type": "code",
      "source": [
        "buyers_sellers_table"
      ],
      "metadata": {
        "colab": {
          "base_uri": "https://localhost:8080/",
          "height": 423
        },
        "id": "h1aBAztUE0Zf",
        "outputId": "5369eacd-2d74-4742-8b59-d84f09834f13"
      },
      "execution_count": null,
      "outputs": [
        {
          "output_type": "execute_result",
          "data": {
            "text/plain": [
              "    buyer/seller                      name    district  \\\n",
              "0          buyer      Jayasundara M D Y L      Colombo   \n",
              "1          buyer               Kishanth S      Colombo   \n",
              "2          buyer          Peiris W. U. P.      Colombo   \n",
              "3          buyer            Bhagya B.A.I.      Colombo   \n",
              "4          buyer          Pathirana P.M.C      Gampaha   \n",
              "..           ...                       ...         ...   \n",
              "215       seller    Mayadunna M. D. T. P.    Ratnapura   \n",
              "216       seller         Bhaggya G. V. C.   Hambantota   \n",
              "217       seller          Tharinda S.M.C.   Hambantota   \n",
              "218       seller            Abraar S.F.M.   Moneragala   \n",
              "219       seller  Gunasinghe U. L. D. V. R     Gampaha   \n",
              "\n",
              "                          city     crop  yield  price  \n",
              "0                      Colombo    Beans    126    160  \n",
              "1       Dehiwala-Mount Lavinia   Carrot     22    150  \n",
              "2                     Moratuwa  Cabbage     14     65  \n",
              "3    Sri Jayawardenapura Kotte   Tomato    138     80  \n",
              "4                      Negombo  Brinjal     64    200  \n",
              "..                         ...      ...    ...    ...  \n",
              "215                  Balangoda    Beans     57    125  \n",
              "216                 Hambantota   Carrot     70    115  \n",
              "217                   Tangalle  Cabbage    109     28  \n",
              "218                 Moneragala   Tomato    158     95  \n",
              "219                    Gampaha  Brinjal    118    178  \n",
              "\n",
              "[220 rows x 7 columns]"
            ],
            "text/html": [
              "\n",
              "  <div id=\"df-f9288aa9-a9de-4862-b9ce-c0efd238a0c1\">\n",
              "    <div class=\"colab-df-container\">\n",
              "      <div>\n",
              "<style scoped>\n",
              "    .dataframe tbody tr th:only-of-type {\n",
              "        vertical-align: middle;\n",
              "    }\n",
              "\n",
              "    .dataframe tbody tr th {\n",
              "        vertical-align: top;\n",
              "    }\n",
              "\n",
              "    .dataframe thead th {\n",
              "        text-align: right;\n",
              "    }\n",
              "</style>\n",
              "<table border=\"1\" class=\"dataframe\">\n",
              "  <thead>\n",
              "    <tr style=\"text-align: right;\">\n",
              "      <th></th>\n",
              "      <th>buyer/seller</th>\n",
              "      <th>name</th>\n",
              "      <th>district</th>\n",
              "      <th>city</th>\n",
              "      <th>crop</th>\n",
              "      <th>yield</th>\n",
              "      <th>price</th>\n",
              "    </tr>\n",
              "  </thead>\n",
              "  <tbody>\n",
              "    <tr>\n",
              "      <th>0</th>\n",
              "      <td>buyer</td>\n",
              "      <td>Jayasundara M D Y L</td>\n",
              "      <td>Colombo</td>\n",
              "      <td>Colombo</td>\n",
              "      <td>Beans</td>\n",
              "      <td>126</td>\n",
              "      <td>160</td>\n",
              "    </tr>\n",
              "    <tr>\n",
              "      <th>1</th>\n",
              "      <td>buyer</td>\n",
              "      <td>Kishanth S</td>\n",
              "      <td>Colombo</td>\n",
              "      <td>Dehiwala-Mount Lavinia</td>\n",
              "      <td>Carrot</td>\n",
              "      <td>22</td>\n",
              "      <td>150</td>\n",
              "    </tr>\n",
              "    <tr>\n",
              "      <th>2</th>\n",
              "      <td>buyer</td>\n",
              "      <td>Peiris W. U. P.</td>\n",
              "      <td>Colombo</td>\n",
              "      <td>Moratuwa</td>\n",
              "      <td>Cabbage</td>\n",
              "      <td>14</td>\n",
              "      <td>65</td>\n",
              "    </tr>\n",
              "    <tr>\n",
              "      <th>3</th>\n",
              "      <td>buyer</td>\n",
              "      <td>Bhagya B.A.I.</td>\n",
              "      <td>Colombo</td>\n",
              "      <td>Sri Jayawardenapura Kotte</td>\n",
              "      <td>Tomato</td>\n",
              "      <td>138</td>\n",
              "      <td>80</td>\n",
              "    </tr>\n",
              "    <tr>\n",
              "      <th>4</th>\n",
              "      <td>buyer</td>\n",
              "      <td>Pathirana P.M.C</td>\n",
              "      <td>Gampaha</td>\n",
              "      <td>Negombo</td>\n",
              "      <td>Brinjal</td>\n",
              "      <td>64</td>\n",
              "      <td>200</td>\n",
              "    </tr>\n",
              "    <tr>\n",
              "      <th>...</th>\n",
              "      <td>...</td>\n",
              "      <td>...</td>\n",
              "      <td>...</td>\n",
              "      <td>...</td>\n",
              "      <td>...</td>\n",
              "      <td>...</td>\n",
              "      <td>...</td>\n",
              "    </tr>\n",
              "    <tr>\n",
              "      <th>215</th>\n",
              "      <td>seller</td>\n",
              "      <td>Mayadunna M. D. T. P.</td>\n",
              "      <td>Ratnapura</td>\n",
              "      <td>Balangoda</td>\n",
              "      <td>Beans</td>\n",
              "      <td>57</td>\n",
              "      <td>125</td>\n",
              "    </tr>\n",
              "    <tr>\n",
              "      <th>216</th>\n",
              "      <td>seller</td>\n",
              "      <td>Bhaggya G. V. C.</td>\n",
              "      <td>Hambantota</td>\n",
              "      <td>Hambantota</td>\n",
              "      <td>Carrot</td>\n",
              "      <td>70</td>\n",
              "      <td>115</td>\n",
              "    </tr>\n",
              "    <tr>\n",
              "      <th>217</th>\n",
              "      <td>seller</td>\n",
              "      <td>Tharinda S.M.C.</td>\n",
              "      <td>Hambantota</td>\n",
              "      <td>Tangalle</td>\n",
              "      <td>Cabbage</td>\n",
              "      <td>109</td>\n",
              "      <td>28</td>\n",
              "    </tr>\n",
              "    <tr>\n",
              "      <th>218</th>\n",
              "      <td>seller</td>\n",
              "      <td>Abraar S.F.M.</td>\n",
              "      <td>Moneragala</td>\n",
              "      <td>Moneragala</td>\n",
              "      <td>Tomato</td>\n",
              "      <td>158</td>\n",
              "      <td>95</td>\n",
              "    </tr>\n",
              "    <tr>\n",
              "      <th>219</th>\n",
              "      <td>seller</td>\n",
              "      <td>Gunasinghe U. L. D. V. R</td>\n",
              "      <td>Gampaha</td>\n",
              "      <td>Gampaha</td>\n",
              "      <td>Brinjal</td>\n",
              "      <td>118</td>\n",
              "      <td>178</td>\n",
              "    </tr>\n",
              "  </tbody>\n",
              "</table>\n",
              "<p>220 rows × 7 columns</p>\n",
              "</div>\n",
              "      <button class=\"colab-df-convert\" onclick=\"convertToInteractive('df-f9288aa9-a9de-4862-b9ce-c0efd238a0c1')\"\n",
              "              title=\"Convert this dataframe to an interactive table.\"\n",
              "              style=\"display:none;\">\n",
              "        \n",
              "  <svg xmlns=\"http://www.w3.org/2000/svg\" height=\"24px\"viewBox=\"0 0 24 24\"\n",
              "       width=\"24px\">\n",
              "    <path d=\"M0 0h24v24H0V0z\" fill=\"none\"/>\n",
              "    <path d=\"M18.56 5.44l.94 2.06.94-2.06 2.06-.94-2.06-.94-.94-2.06-.94 2.06-2.06.94zm-11 1L8.5 8.5l.94-2.06 2.06-.94-2.06-.94L8.5 2.5l-.94 2.06-2.06.94zm10 10l.94 2.06.94-2.06 2.06-.94-2.06-.94-.94-2.06-.94 2.06-2.06.94z\"/><path d=\"M17.41 7.96l-1.37-1.37c-.4-.4-.92-.59-1.43-.59-.52 0-1.04.2-1.43.59L10.3 9.45l-7.72 7.72c-.78.78-.78 2.05 0 2.83L4 21.41c.39.39.9.59 1.41.59.51 0 1.02-.2 1.41-.59l7.78-7.78 2.81-2.81c.8-.78.8-2.07 0-2.86zM5.41 20L4 18.59l7.72-7.72 1.47 1.35L5.41 20z\"/>\n",
              "  </svg>\n",
              "      </button>\n",
              "      \n",
              "  <style>\n",
              "    .colab-df-container {\n",
              "      display:flex;\n",
              "      flex-wrap:wrap;\n",
              "      gap: 12px;\n",
              "    }\n",
              "\n",
              "    .colab-df-convert {\n",
              "      background-color: #E8F0FE;\n",
              "      border: none;\n",
              "      border-radius: 50%;\n",
              "      cursor: pointer;\n",
              "      display: none;\n",
              "      fill: #1967D2;\n",
              "      height: 32px;\n",
              "      padding: 0 0 0 0;\n",
              "      width: 32px;\n",
              "    }\n",
              "\n",
              "    .colab-df-convert:hover {\n",
              "      background-color: #E2EBFA;\n",
              "      box-shadow: 0px 1px 2px rgba(60, 64, 67, 0.3), 0px 1px 3px 1px rgba(60, 64, 67, 0.15);\n",
              "      fill: #174EA6;\n",
              "    }\n",
              "\n",
              "    [theme=dark] .colab-df-convert {\n",
              "      background-color: #3B4455;\n",
              "      fill: #D2E3FC;\n",
              "    }\n",
              "\n",
              "    [theme=dark] .colab-df-convert:hover {\n",
              "      background-color: #434B5C;\n",
              "      box-shadow: 0px 1px 3px 1px rgba(0, 0, 0, 0.15);\n",
              "      filter: drop-shadow(0px 1px 2px rgba(0, 0, 0, 0.3));\n",
              "      fill: #FFFFFF;\n",
              "    }\n",
              "  </style>\n",
              "\n",
              "      <script>\n",
              "        const buttonEl =\n",
              "          document.querySelector('#df-f9288aa9-a9de-4862-b9ce-c0efd238a0c1 button.colab-df-convert');\n",
              "        buttonEl.style.display =\n",
              "          google.colab.kernel.accessAllowed ? 'block' : 'none';\n",
              "\n",
              "        async function convertToInteractive(key) {\n",
              "          const element = document.querySelector('#df-f9288aa9-a9de-4862-b9ce-c0efd238a0c1');\n",
              "          const dataTable =\n",
              "            await google.colab.kernel.invokeFunction('convertToInteractive',\n",
              "                                                     [key], {});\n",
              "          if (!dataTable) return;\n",
              "\n",
              "          const docLinkHtml = 'Like what you see? Visit the ' +\n",
              "            '<a target=\"_blank\" href=https://colab.research.google.com/notebooks/data_table.ipynb>data table notebook</a>'\n",
              "            + ' to learn more about interactive tables.';\n",
              "          element.innerHTML = '';\n",
              "          dataTable['output_type'] = 'display_data';\n",
              "          await google.colab.output.renderOutput(dataTable, element);\n",
              "          const docLink = document.createElement('div');\n",
              "          docLink.innerHTML = docLinkHtml;\n",
              "          element.appendChild(docLink);\n",
              "        }\n",
              "      </script>\n",
              "    </div>\n",
              "  </div>\n",
              "  "
            ]
          },
          "metadata": {},
          "execution_count": 7
        }
      ]
    },
    {
      "cell_type": "code",
      "source": [
        "min_num_clusters = len(buyers_sellers_table['crop'].unique())"
      ],
      "metadata": {
        "id": "tRWqYZXqfaAX"
      },
      "execution_count": null,
      "outputs": []
    },
    {
      "cell_type": "code",
      "source": [
        "buyers_sellers_table['crop'].unique()"
      ],
      "metadata": {
        "colab": {
          "base_uri": "https://localhost:8080/"
        },
        "id": "opIIHfezmDo8",
        "outputId": "c5eabb38-bb73-4672-d5f7-41f7a6a553d1"
      },
      "execution_count": null,
      "outputs": [
        {
          "output_type": "execute_result",
          "data": {
            "text/plain": [
              "array(['Beans', 'Carrot', 'Cabbage', 'Tomato', 'Brinjal', 'Pumpkin',\n",
              "       'Snake gourd', 'Green Chilli', 'Lime', 'Red Onion (Local)',\n",
              "       'Red Onion (lmp)', 'Big Onion (Local)', 'Big Onion (Imp)',\n",
              "       'Potato (Local)', 'Potato (Imp)', 'Dried Chilli (Imp)',\n",
              "       'Coconut (Avg.)', 'Dhal', 'Banana (Sour)', 'Papaw', 'Pineapple',\n",
              "       'Apple (Imp)', 'Orange (Imp)', 'Samba', 'Nadu', 'Kekulu (White)',\n",
              "       'Kekulu (Red)', 'Ponni Samba (Imp)', 'Nadu (Imp)',\n",
              "       'Kekulu (White) (Imp)'], dtype=object)"
            ]
          },
          "metadata": {},
          "execution_count": 9
        }
      ]
    },
    {
      "cell_type": "code",
      "source": [
        "buyers_sellers_table['district'].unique()"
      ],
      "metadata": {
        "colab": {
          "base_uri": "https://localhost:8080/"
        },
        "id": "az7iD0jrb9Kv",
        "outputId": "adc9afc6-67fe-49b6-b90e-7be6f980fdce"
      },
      "execution_count": null,
      "outputs": [
        {
          "output_type": "execute_result",
          "data": {
            "text/plain": [
              "array(['Colombo', 'Gampaha', 'Kandy', 'Ampara', 'Vavuniya', 'Galle',\n",
              "       'Trincomalee', 'Batticaloa', 'Jaffna', 'Matale', 'Anuradhapura',\n",
              "       'Ratnapura', 'Badulla', 'Matara', 'Puttalam', 'Kalutara', 'Mannar',\n",
              "       'Kurunegala', 'Nuwara Eliya', 'Kegalle', 'Hambantota',\n",
              "       'Moneragala'], dtype=object)"
            ]
          },
          "metadata": {},
          "execution_count": 10
        }
      ]
    },
    {
      "cell_type": "code",
      "source": [
        "X = buyers_sellers_table.iloc[:,4:].values\n",
        "le = preprocessing.LabelEncoder()\n",
        "X[:, 0] = le.fit_transform(X[:, 0])"
      ],
      "metadata": {
        "id": "AhT_vjv_cOTp"
      },
      "execution_count": null,
      "outputs": []
    },
    {
      "cell_type": "code",
      "source": [
        "X[:, 0] = X[:, 0] + 1\n",
        "X[:, 0] = X[:, 0] * 10000"
      ],
      "metadata": {
        "id": "dOBEmpMueQdF"
      },
      "execution_count": null,
      "outputs": []
    },
    {
      "cell_type": "code",
      "source": [
        "le.inverse_transform([int((X[0, 0]/10000) - 1)])"
      ],
      "metadata": {
        "colab": {
          "base_uri": "https://localhost:8080/"
        },
        "id": "9IvVoYnvdS1u",
        "outputId": "ae30f6da-8cad-46e3-f075-e10cbef37c85"
      },
      "execution_count": null,
      "outputs": [
        {
          "output_type": "execute_result",
          "data": {
            "text/plain": [
              "array(['Beans'], dtype=object)"
            ]
          },
          "metadata": {},
          "execution_count": 13
        }
      ]
    },
    {
      "cell_type": "code",
      "source": [
        "n_clusters = int(1.5 * min_num_clusters)"
      ],
      "metadata": {
        "id": "93GLCy6MnmLj"
      },
      "execution_count": null,
      "outputs": []
    },
    {
      "cell_type": "code",
      "source": [
        "# from sklearn.cluster import AgglomerativeClustering\n",
        "\n",
        "# hc = AgglomerativeClustering(n_clusters = n_clusters, affinity = 'euclidean', linkage = 'ward')\n",
        "# y_pred = hc.fit_predict(X)"
      ],
      "metadata": {
        "id": "-ebbYPl5buX2"
      },
      "execution_count": null,
      "outputs": []
    },
    {
      "cell_type": "code",
      "source": [
        "from sklearn.cluster import KMeans\n",
        "\n",
        "kmeans = KMeans(n_clusters = n_clusters, init = \"k-means++\")\n",
        "y_pred = kmeans.fit_predict(X)"
      ],
      "metadata": {
        "id": "NRevcWMknWxz"
      },
      "execution_count": null,
      "outputs": []
    },
    {
      "cell_type": "code",
      "source": [
        "matchs = dict()\n",
        "for i, group in enumerate(y_pred):\n",
        "  if group not in matchs.keys():\n",
        "    matchs[group] = [i]\n",
        "  else:\n",
        "    matchs[group].append(i)"
      ],
      "metadata": {
        "id": "k5ok409Tfnxd"
      },
      "execution_count": null,
      "outputs": []
    },
    {
      "cell_type": "code",
      "source": [
        "buyers_sellers_table.iloc[0,:]"
      ],
      "metadata": {
        "colab": {
          "base_uri": "https://localhost:8080/"
        },
        "id": "HSz9kVyvhVH8",
        "outputId": "a84ef831-bd21-43ad-d609-1e0a6cceab09"
      },
      "execution_count": null,
      "outputs": [
        {
          "output_type": "execute_result",
          "data": {
            "text/plain": [
              "buyer/seller                   buyer\n",
              "name            Jayasundara M D Y L \n",
              "district                     Colombo\n",
              "city                         Colombo\n",
              "crop                           Beans\n",
              "yield                            126\n",
              "price                            160\n",
              "Name: 0, dtype: object"
            ]
          },
          "metadata": {},
          "execution_count": 18
        }
      ]
    },
    {
      "cell_type": "code",
      "source": [
        "ex_crop = 'Beans'\n",
        "for key in matchs.keys():\n",
        "  is_newline = False\n",
        "  for i in matchs[key]:\n",
        "    if ex_crop == buyers_sellers_table.iloc[i,4]:\n",
        "      print(\n",
        "          buyers_sellers_table.iloc[i,4], \n",
        "          buyers_sellers_table.iloc[i,0], \n",
        "          buyers_sellers_table.iloc[i,5], \n",
        "          buyers_sellers_table.iloc[i,6])\n",
        "      is_newline = True\n",
        "  if is_newline: print()"
      ],
      "metadata": {
        "colab": {
          "base_uri": "https://localhost:8080/"
        },
        "id": "PuABuiaZhB2d",
        "outputId": "f0f98199-a9df-42ed-c8b4-935ad50a9124"
      },
      "execution_count": null,
      "outputs": [
        {
          "output_type": "stream",
          "name": "stdout",
          "text": [
            "Beans buyer 126 160\n",
            "Beans seller 122 160\n",
            "Beans seller 150 145\n",
            "Beans seller 97 128\n",
            "Beans seller 98 200\n",
            "\n",
            "Beans buyer 13 320\n",
            "Beans buyer 50 295\n",
            "Beans seller 90 240\n",
            "Beans seller 146 260\n",
            "\n",
            "Beans buyer 51 160\n",
            "Beans buyer 22 135\n",
            "Beans buyer 54 160\n",
            "Beans buyer 57 145\n",
            "Beans seller 57 125\n",
            "\n"
          ]
        }
      ]
    }
  ]
}